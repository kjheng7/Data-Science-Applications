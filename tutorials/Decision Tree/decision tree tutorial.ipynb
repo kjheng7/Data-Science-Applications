{
 "cells": [
  {
   "cell_type": "markdown",
   "metadata": {},
   "source": [
    "# Exercise - breast_cancer\n",
    "Create, fit, and evaluate a desicion tree classifier on breast_cancer dataset for max_depth=3. Find out what's the ideal depth level for your model."
   ]
  },
  {
   "cell_type": "code",
   "execution_count": 1,
   "metadata": {},
   "outputs": [],
   "source": [
    "from sklearn.datasets import load_breast_cancer\n",
    "cancer = load_breast_cancer()\n",
    "\n",
    "X = cancer.data\n",
    "y = cancer.target"
   ]
  },
  {
   "cell_type": "code",
   "execution_count": 2,
   "metadata": {},
   "outputs": [],
   "source": [
    "from sklearn.model_selection import train_test_split\n",
    "from sklearn.tree import DecisionTreeClassifier"
   ]
  },
  {
   "cell_type": "code",
   "execution_count": 3,
   "metadata": {},
   "outputs": [],
   "source": [
    "Xtrain, Xtest, ytrain, ytest = train_test_split(X,y ,random_state=0, test_size=0.2)"
   ]
  },
  {
   "cell_type": "code",
   "execution_count": 4,
   "metadata": {},
   "outputs": [
    {
     "data": {
      "text/plain": [
       "DecisionTreeClassifier(max_depth=3)"
      ]
     },
     "execution_count": 4,
     "metadata": {},
     "output_type": "execute_result"
    }
   ],
   "source": [
    "tree = DecisionTreeClassifier(max_depth=3)\n",
    "tree.fit(Xtrain, ytrain)"
   ]
  },
  {
   "cell_type": "code",
   "execution_count": 5,
   "metadata": {},
   "outputs": [
    {
     "name": "stdout",
     "output_type": "stream",
     "text": [
      "Accuracy on training set: 0.971\n",
      "Accuracy on test set: 0.965\n"
     ]
    }
   ],
   "source": [
    "print(\"Accuracy on training set: {:.3f}\".format(tree.score(Xtrain, ytrain)))\n",
    "print(\"Accuracy on test set: {:.3f}\".format(tree.score(Xtest, ytest)))"
   ]
  },
  {
   "cell_type": "code",
   "execution_count": 6,
   "metadata": {},
   "outputs": [
    {
     "name": "stdout",
     "output_type": "stream",
     "text": [
      "max depth = 2\n",
      "Accuracy on training set: 0.952\n",
      "Accuracy on test set: 0.965\n",
      "\n",
      "max depth = 3\n",
      "Accuracy on training set: 0.971\n",
      "Accuracy on test set: 0.965\n",
      "\n",
      "max depth = 4\n",
      "Accuracy on training set: 0.985\n",
      "Accuracy on test set: 0.956\n",
      "\n",
      "max depth = 5\n",
      "Accuracy on training set: 0.989\n",
      "Accuracy on test set: 0.947\n",
      "\n",
      "max depth = 6\n",
      "Accuracy on training set: 0.993\n",
      "Accuracy on test set: 0.947\n",
      "\n",
      "max depth = 7\n",
      "Accuracy on training set: 0.996\n",
      "Accuracy on test set: 0.947\n",
      "\n"
     ]
    }
   ],
   "source": [
    "N = [2,3,4,5,6,7]\n",
    "for num in N:\n",
    "    tree = DecisionTreeClassifier(max_depth=num)\n",
    "    tree.fit(Xtrain, ytrain)\n",
    "    print('max depth =',num)\n",
    "    print(\"Accuracy on training set: {:.3f}\".format(tree.score(Xtrain, ytrain)))\n",
    "    print(\"Accuracy on test set: {:.3f}\".format(tree.score(Xtest, ytest)))\n",
    "    print('')"
   ]
  },
  {
   "cell_type": "code",
   "execution_count": null,
   "metadata": {},
   "outputs": [],
   "source": []
  }
 ],
 "metadata": {
  "kernelspec": {
   "display_name": "Python 3",
   "language": "python",
   "name": "python3"
  },
  "language_info": {
   "codemirror_mode": {
    "name": "ipython",
    "version": 3
   },
   "file_extension": ".py",
   "mimetype": "text/x-python",
   "name": "python",
   "nbconvert_exporter": "python",
   "pygments_lexer": "ipython3",
   "version": "3.8.5"
  }
 },
 "nbformat": 4,
 "nbformat_minor": 4
}
